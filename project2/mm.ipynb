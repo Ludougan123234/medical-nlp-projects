{
 "cells": [
  {
   "attachments": {},
   "cell_type": "markdown",
   "metadata": {
    "pycharm": {
     "name": "#%% md\n"
    }
   },
   "source": [
    "### Extra credit\n",
    "\n",
    "- The instructions to set up MetaMap and pymetamap are provided by [Gary Weissman](https://gweissman.github.io/post/using-metamap-with-python-to-access-the-umls-metathesaurus-a-quick-start-guide/) and [NIH](https://lhncbc.nlm.nih.gov/ii/tools/MetaMap/documentation/Installation.html#metamap-installation) (click link to go to reference)\n",
    "- The `test_output_human (2).txt` file is generated in `DL.ipynb`. The first line is the word \"term\", and the rest of the file contains extracted SSIs and AEs from the test data. The line is empty if no SSIs and/or AEs are extracted. "
   ]
  },
  {
   "cell_type": "code",
   "execution_count": 1,
   "metadata": {
    "pycharm": {
     "name": "#%%\n"
    }
   },
   "outputs": [
    {
     "name": "stdout",
     "output_type": "stream",
     "text": [
      "Starting skrmedpostctl: \n",
      "started.\n",
      "Starting wsdserverctl: \n",
      "started.\n"
     ]
    },
    {
     "data": {
      "text/plain": [
       "0"
      ]
     },
     "execution_count": 1,
     "metadata": {},
     "output_type": "execute_result"
    },
    {
     "name": "stdout",
     "output_type": "stream",
     "text": [
      "loading properties file /Users/randy/Downloads/public_mm//WSD_Server/config/disambServer.cfg\n"
     ]
    }
   ],
   "source": [
    "# import libraries\n",
    "from pymetamap import MetaMap\n",
    "import os\n",
    "import re\n",
    "from tqdm import tqdm\n",
    "from time import sleep\n",
    "\n",
    "# Setup UMLS Server (configure by file path)\n",
    "metamap_base_dir = '/Users/randy/Downloads/public_mm/'\n",
    "metamap_bin_dir = 'bin/metamap18'\n",
    "metamap_pos_server_dir = 'bin/skrmedpostctl'\n",
    "metamap_wsd_server_dir = 'bin/wsdserverctl'\n",
    "\n",
    "# Start POS and WSD servers, both are required for MetaMap\n",
    "os.system(metamap_base_dir + metamap_pos_server_dir + ' start') \n",
    "os.system(metamap_base_dir + metamap_wsd_server_dir + ' start') \n",
    "\n",
    "# configure sleep time to ensure servers have completely been started\n",
    "# sleep(10)"
   ]
  },
  {
   "cell_type": "code",
   "execution_count": 2,
   "metadata": {
    "pycharm": {
     "name": "#%%\n"
    }
   },
   "outputs": [],
   "source": [
    "# instantiate metamap \n",
    "metam = MetaMap.get_instance(metamap_base_dir + metamap_bin_dir)"
   ]
  },
  {
   "cell_type": "code",
   "execution_count": 28,
   "metadata": {},
   "outputs": [
    {
     "name": "stderr",
     "output_type": "stream",
     "text": [
      "\n",
      "### MetaMap ERROR: The UMLS sources [lbtr,fndg] are unknown. Aborting.\n"
     ]
    },
    {
     "data": {
      "text/plain": [
       "([], None)"
      ]
     },
     "execution_count": 28,
     "metadata": {},
     "output_type": "execute_result"
    }
   ],
   "source": [
    "test_str = \"isoechoic nodule of left lobe of thyroid\"\n",
    "\n",
    "metam.extract_concepts([test_str], \n",
    "                       word_sense_disambiguation = True,\n",
    "                       prefer_multiple_concepts=True,\n",
    "                       term_processing=True,\n",
    "                       restrict_to_sources=['lbtr', \"fndg\"])"
   ]
  },
  {
   "cell_type": "code",
   "execution_count": 10,
   "metadata": {
    "pycharm": {
     "name": "#%%\n"
    }
   },
   "outputs": [],
   "source": [
    "with open(\"test_output_human (2).txt\", \"r\") as f, open(\"test_output_labelseq.txt\", \"r\") as ff:\n",
    "     mm = f.readlines() \n",
    "     ls = ff.readlines()"
   ]
  },
  {
   "cell_type": "code",
   "execution_count": 12,
   "metadata": {
    "pycharm": {
     "name": "#%%\n"
    }
   },
   "outputs": [
    {
     "name": "stderr",
     "output_type": "stream",
     "text": [
      "  1%|          | 8/1259 [00:08<20:02,  1.04it/s]"
     ]
    },
    {
     "name": "stdout",
     "output_type": "stream",
     "text": [
      "WSD Server initializing disambiguation methods.\n",
      "WSD Server databases and disambiguation methods have been initialized.\n",
      "Could not listen on port : 5554 : Address already in use (Bind failed)\n"
     ]
    },
    {
     "name": "stderr",
     "output_type": "stream",
     "text": [
      "100%|██████████| 1259/1259 [12:41<00:00,  1.65it/s]\n"
     ]
    }
   ],
   "source": [
    "result = []\n",
    "for i in tqdm(range(1, len(mm))):\n",
    "     mm[i] = re.sub(r\"\\n\", \"\", mm[i])\n",
    "     # skip empty lines (lines with no predicted values)\n",
    "     if len(mm[i]) == 0: \n",
    "          result.append([]) \n",
    "     else:\n",
    "          cons, errs = metam.extract_concepts([mm[i]], \n",
    "                                              word_sense_disambiguation = True, \n",
    "                                              composite_phrase = 1, \n",
    "                                              prune = 99)\n",
    "          # get cui from concept (cons) variable\n",
    "          result.append([con.cui for con in cons])"
   ]
  },
  {
   "cell_type": "code",
   "execution_count": 16,
   "metadata": {
    "pycharm": {
     "name": "#%%\n"
    }
   },
   "outputs": [],
   "source": [
    "# write results to file\n",
    "with open(\"extra_credit.txt\", \"w\") as f:\n",
    "     f.write(\"ID\\tTAGSEQ\\tCUI\\n\")\n",
    "     for labelseq, cuis in zip(ls[1:], result):\n",
    "          labelseq = re.sub(r\"\\n\", r\"\\t\", labelseq)\n",
    "          cui = \",\".join(cuis)\n",
    "          f.write(f\"{labelseq}\\t{cui}\\n\")\n",
    "\n",
    "# kill MetaMap Java process\n",
    "# !jcmd -l"
   ]
  },
  {
   "cell_type": "code",
   "execution_count": null,
   "metadata": {
    "pycharm": {
     "name": "#%%\n"
    }
   },
   "outputs": [],
   "source": []
  }
 ],
 "metadata": {
  "kernelspec": {
   "display_name": "numpy_m1_build",
   "language": "python",
   "name": "python3"
  },
  "language_info": {
   "codemirror_mode": {
    "name": "ipython",
    "version": 3
   },
   "file_extension": ".py",
   "mimetype": "text/x-python",
   "name": "python",
   "nbconvert_exporter": "python",
   "pygments_lexer": "ipython3",
   "version": "3.10.4"
  },
  "orig_nbformat": 4,
  "vscode": {
   "interpreter": {
    "hash": "5cd2dc2bc102a04a2cb17d6d5180f0d184562ab71498ad6d78c8ae3de727ddc5"
   }
  }
 },
 "nbformat": 4,
 "nbformat_minor": 2
}
