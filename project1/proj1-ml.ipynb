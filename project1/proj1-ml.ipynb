{
 "cells": [
  {
   "attachments": {},
   "cell_type": "markdown",
   "metadata": {},
   "source": [
    "#### Objectives: \n",
    "\n",
    "- [x] Read in data\n",
    "- [x] Preprocessing \n",
    "     - [x] Remove multimedia link\n",
    "- [x] train-test split\n",
    "- [x] Preprocessing\n",
    "- [x] Feature engineering\n",
    "- [ ] Describe classification method\n",
    "- [ ] Finetune\n",
    "- [ ] Describe best run\n",
    "- [ ] Make kaggle submission"
   ]
  },
  {
   "cell_type": "code",
   "execution_count": 23,
   "metadata": {},
   "outputs": [],
   "source": [
    "from sklearn.model_selection import train_test_split, GridSearchCV\n",
    "from sklearn.feature_extraction.text import CountVectorizer, TfidfVectorizer\n",
    "from sklearn.svm import SVC, LinearSVC\n",
    "from sklearn.ensemble import RandomForestClassifier, StackingClassifier\n",
    "from sklearn.metrics import confusion_matrix, f1_score, accuracy_score, classification_report\n",
    "import itertools \n",
    "import numpy as np\n",
    "from collections import Counter\n",
    "import pandas as pd \n",
    "import nltk\n",
    "import matplotlib.pyplot as plt\n",
    "from nltk import word_tokenize\n",
    "from nltk.stem.porter import PorterStemmer\n",
    "from nltk.stem import WordNetLemmatizer\n",
    "import tqdm \n",
    "import re\n",
    "import os"
   ]
  },
  {
   "cell_type": "code",
   "execution_count": 3,
   "metadata": {},
   "outputs": [
    {
     "data": {
      "text/plain": [
       "<bound method XGBModel.get_params of XGBClassifier(base_score=None, booster=None, callbacks=None,\n",
       "              colsample_bylevel=None, colsample_bynode=None,\n",
       "              colsample_bytree=None, early_stopping_rounds=None,\n",
       "              enable_categorical=False, eval_metric=None, gamma=None,\n",
       "              gpu_id=None, grow_policy=None, importance_type=None,\n",
       "              interaction_constraints=None, learning_rate=None, max_bin=None,\n",
       "              max_cat_to_onehot=None, max_delta_step=None, max_depth=None,\n",
       "              max_leaves=None, min_child_weight=None, missing=nan,\n",
       "              monotone_constraints=None, n_estimators=100, n_jobs=None,\n",
       "              num_parallel_tree=None, predictor=None, random_state=None,\n",
       "              reg_alpha=None, reg_lambda=None, ...)>"
      ]
     },
     "execution_count": 3,
     "metadata": {},
     "output_type": "execute_result"
    }
   ],
   "source": [
    "import xgboost as xgb\n",
    "classifier = xgb.XGBClassifier()\n",
    "classifier.get_params"
   ]
  },
  {
   "cell_type": "code",
   "execution_count": 3,
   "metadata": {},
   "outputs": [
    {
     "name": "stdout",
     "output_type": "stream",
     "text": [
      "/Users/randy/My Drive/Sync_Google drive/Grad School/2023WI/LHS 712 - NLP for hlth data/python notebooks/assignment2\n"
     ]
    }
   ],
   "source": [
    "!pwd"
   ]
  },
  {
   "cell_type": "code",
   "execution_count": 4,
   "metadata": {},
   "outputs": [],
   "source": [
    "!iconv -f utf-8 -t utf-8 -c ./WN23_data/WN23_PA_training_tweets.txt > ./WN23_data/train.txt"
   ]
  },
  {
   "cell_type": "code",
   "execution_count": 5,
   "metadata": {},
   "outputs": [
    {
     "name": "stdout",
     "output_type": "stream",
     "text": [
      "   TweetID  TimeOfDay                                              Tweet\n",
      "0     1001         17  The Bulldogs have been selected to finish 4th ...\n",
      "1     1002         22  Played disc golf. Got a tattoo. Heading to Det...\n",
      "2     1003         16  Sunday big football game I'm gunna gather all ...\n",
      "3     1004         20  Despite my resolution to be nicer to Scooter t...\n",
      "4     1005         18  Reassigned by Michigan Runner to shoot Goodlif...\n"
     ]
    }
   ],
   "source": [
    "text_file = './WN23_data/train.txt'\n",
    "label_file = './WN23_data/WN23_PA_training_labels.txt'\n",
    "\n",
    "text_df = pd.read_csv(text_file, sep = \",\",encoding = \"ISO-8859-1\")\n",
    "label_df = pd.read_csv(label_file, sep = \",\", encoding = \"ISO-8859-1\")\n",
    "print(text_df.head())"
   ]
  },
  {
   "cell_type": "code",
   "execution_count": 7,
   "metadata": {},
   "outputs": [],
   "source": [
    "label_df = label_df['Label']"
   ]
  },
  {
   "cell_type": "code",
   "execution_count": 8,
   "metadata": {},
   "outputs": [],
   "source": [
    "def plot_confusion_matrix(cm, classes,\n",
    "                          normalize=False,\n",
    "                          title='Confusion matrix',\n",
    "                          cmap=plt.cm.Blues):\n",
    "    \"\"\"\n",
    "    This function prints and plots the confusion matrix.\n",
    "    Normalization can be applied by setting `normalize=True`.\n",
    "    \"\"\"\n",
    "    if normalize:\n",
    "        cm = cm.astype('float') / cm.sum(axis=1)[:, np.newaxis]\n",
    "        print(\"Normalized confusion matrix\")\n",
    "    else:\n",
    "        print('Confusion matrix, without normalization')\n",
    "        \n",
    "    plt.imshow(cm, interpolation='nearest', cmap=cmap)\n",
    "    plt.title(title)\n",
    "    plt.colorbar()\n",
    "    tick_marks = np.arange(len(classes))\n",
    "    plt.xticks(tick_marks, classes, rotation=45)\n",
    "    plt.yticks(tick_marks, classes)\n",
    "\n",
    "    fmt = '.2f' if normalize else 'd'\n",
    "    thresh = cm.max() / 2.\n",
    "    for i, j in itertools.product(range(cm.shape[0]), range(cm.shape[1])):\n",
    "        plt.text(j, i, format(cm[i, j], fmt),\n",
    "                 horizontalalignment=\"center\",\n",
    "                 color=\"white\" if cm[i, j] > thresh else \"black\")\n",
    "\n",
    "    plt.ylabel('True label')\n",
    "    plt.xlabel('Predicted label')\n",
    "    plt.tight_layout()"
   ]
  },
  {
   "cell_type": "code",
   "execution_count": 9,
   "metadata": {},
   "outputs": [],
   "source": [
    "def regex_preprocessing(text: str) -> str:\n",
    "     \"\"\"\n",
    "     Removes: \n",
    "     1. URL links\n",
    "     2. line break (\\n) characters\n",
    "     3. whitespace characters (&amp;)\n",
    "     4. @username\n",
    "     5. Substitute w/ --> \"with\", @  --> \"at\" (not accounting for username)\n",
    "     6. Character normalization (e.g., todddaayyy --> today)\n",
    "\n",
    "     Args:\n",
    "         text (str): string to be preprocessed\n",
    "\n",
    "     Returns:\n",
    "         str: a cleaned text\n",
    "     \"\"\"\n",
    "     url = r\"(?:http|https):\\/\\/[a-zA-Z0-9]*\\.[a-zA-Z0-9]*\\/[a-zA-Z0-9]*\\/[a-zA-Z0-9]*|(?:http|https):\\/\\/t\\.co\\/[a-zA-Z0-9]*|(?:http|https):\\/\\/[a-zA-Z0-9]*\\.[a-zA-Z0-9]*\\/[a-zA-Z0-9]*\"\n",
    "     linebreak = r\"\\n\"\n",
    "     username = r\"@[a-zA-Z0-9_]*(?! )\"\n",
    "     otherchar = r\"(?:&amp;|#|_{2,}|\\.{2,}|\\\\n|\\\\)\"\n",
    "     charnorm = r\"([A-Za-z])\\1{2,}\"\n",
    "     w = r\"w\\/\" # about \n",
    "     at = r\"@ \" # about 204 occurences\n",
    "\n",
    "     text = re.sub(url, '', text)\n",
    "     text = re.sub(linebreak, '', text)\n",
    "     text = re.sub(username, '', text)\n",
    "     text = re.sub(otherchar, '', text)\n",
    "     text = re.sub(w, \"with \", text)\n",
    "     text = re.sub(at, \"at \", text)\n",
    "     text = re.sub(charnorm, r\"\\1\", text)\n",
    "\n",
    "     return text\n"
   ]
  },
  {
   "cell_type": "code",
   "execution_count": 10,
   "metadata": {},
   "outputs": [],
   "source": [
    "stemmer = PorterStemmer()\n",
    "lemmatizer = WordNetLemmatizer()\n",
    "\n",
    "def text_preprocessing(text: str): \n",
    "     text = text.lower()\n",
    "     tokens = nltk.word_tokenize(text)\n",
    "     tokens = [stemmer.stem(w) for w in tokens]\n",
    "     tokens = [lemmatizer.lemmatize(w) for w in tokens]\n",
    "\n",
    "     return tokens"
   ]
  },
  {
   "cell_type": "code",
   "execution_count": 11,
   "metadata": {},
   "outputs": [],
   "source": [
    "text_df['Tweet'] = text_df['Tweet'].apply(lambda x: regex_preprocessing(x)).apply(lambda x: text_preprocessing(x)).apply(lambda x: \" \".join(x))"
   ]
  },
  {
   "cell_type": "code",
   "execution_count": 12,
   "metadata": {},
   "outputs": [],
   "source": [
    "text_df = text_df['Tweet']"
   ]
  },
  {
   "cell_type": "code",
   "execution_count": 13,
   "metadata": {},
   "outputs": [
    {
     "name": "stdout",
     "output_type": "stream",
     "text": [
      "train data length: 3200, train label length: 3200\n",
      "test data length: 800, test label length: 800\n"
     ]
    }
   ],
   "source": [
    "x_train, x_test, y_train, y_test = train_test_split(text_df, label_df, test_size = 0.2)\n",
    "print(f\"train data length: {len(x_train)}, train label length: {len(y_train)}\\ntest data length: {len(x_test)}, test label length: {len(y_test)}\")"
   ]
  },
  {
   "cell_type": "code",
   "execution_count": 14,
   "metadata": {},
   "outputs": [],
   "source": [
    "vectorizr = TfidfVectorizer()\n",
    "x_train = vectorizr.fit_transform(x_train)\n",
    "x_test = vectorizr.transform(x_test)"
   ]
  },
  {
   "cell_type": "code",
   "execution_count": 91,
   "metadata": {},
   "outputs": [
    {
     "name": "stdout",
     "output_type": "stream",
     "text": [
      "0.6232394366197183\n",
      "Confusion matrix, without normalization\n",
      "              precision    recall  f1-score   support\n",
      "\n",
      "           0       0.82      0.77      0.79       532\n",
      "           1       0.59      0.66      0.62       268\n",
      "\n",
      "    accuracy                           0.73       800\n",
      "   macro avg       0.70      0.71      0.71       800\n",
      "weighted avg       0.74      0.73      0.74       800\n",
      "\n"
     ]
    },
    {
     "data": {
      "image/png": "[encoded data removed]",
      "text/plain": [
       "<Figure size 640x480 with 2 Axes>"
      ]
     },
     "metadata": {},
     "output_type": "display_data"
    }
   ],
   "source": [
    "mod_svm = LinearSVC(tol = 0.1, class_weight={0:1, 1:2})\n",
    "mod_svm.fit(x_train, y_train)\n",
    "pred = mod_svm.predict(x_test)\n",
    "classes=list(set(y_test))\n",
    "print(f1_score(y_test, pred))\n",
    "cm = confusion_matrix(y_test, pred, labels=classes)\n",
    "plot_confusion_matrix(cm, classes=classes, title='SVM (Untuned)')\n",
    "print(classification_report(y_test, pred))"
   ]
  },
  {
   "cell_type": "code",
   "execution_count": 113,
   "metadata": {},
   "outputs": [
    {
     "name": "stdout",
     "output_type": "stream",
     "text": [
      "Confusion matrix, without normalization\n",
      "              precision    recall  f1-score   support\n",
      "\n",
      "           0       0.79      0.79      0.79       532\n",
      "           1       0.59      0.59      0.59       268\n",
      "\n",
      "    accuracy                           0.72       800\n",
      "   macro avg       0.69      0.69      0.69       800\n",
      "weighted avg       0.72      0.72      0.72       800\n",
      "\n"
     ]
    },
    {
     "data": {
      "image/png": "[encoded data removed]",
      "text/plain": [
       "<Figure size 640x480 with 2 Axes>"
      ]
     },
     "metadata": {},
     "output_type": "display_data"
    }
   ],
   "source": [
    "from sklearn.ensemble import RandomForestClassifier\n",
    "mod_rf =RandomForestClassifier(class_weight={0: 0.5, 1: 2}, max_depth=100, n_estimators=200)\n",
    "mod_rf.fit(x_train, y_train)\n",
    "pred = mod_rf.predict(x_test)\n",
    "cm = confusion_matrix(y_test, pred, labels=classes)\n",
    "plot_confusion_matrix(cm, classes=classes, title='Random Forest (Baseline)')\n",
    "print(classification_report(y_test, pred))"
   ]
  },
  {
   "cell_type": "code",
   "execution_count": 119,
   "metadata": {},
   "outputs": [
    {
     "name": "stdout",
     "output_type": "stream",
     "text": [
      "0.6187624750499001\n",
      "Confusion matrix, without normalization\n",
      "              precision    recall  f1-score   support\n",
      "\n",
      "           0       0.80      0.85      0.83       532\n",
      "           1       0.67      0.58      0.62       268\n",
      "\n",
      "    accuracy                           0.76       800\n",
      "   macro avg       0.73      0.72      0.72       800\n",
      "weighted avg       0.76      0.76      0.76       800\n",
      "\n"
     ]
    },
    {
     "data": {
      "image/png": "[encoded data removed]",
      "text/plain": [
       "<Figure size 640x480 with 2 Axes>"
      ]
     },
     "metadata": {},
     "output_type": "display_data"
    }
   ],
   "source": [
    "# criterion='entropy', max_depth=100, max_features='sqrt', n_estimators=400\n",
    "from sklearn.ensemble import StackingClassifier\n",
    "stack = [\n",
    "     ('rf',RandomForestClassifier(class_weight='balanced', max_depth=50)),\n",
    "     ('svc', SVC(C=10, kernel='linear')),\n",
    "     ('linearscc', LinearSVC(tol = 0.1, class_weight={0:0.5, 1:2}))\n",
    "]\n",
    "\n",
    "mod_stack1 = StackingClassifier(estimators = stack)\n",
    "mod_stack1.fit(x_train, y_train)\n",
    "pred = mod_stack1.predict(x_test)\n",
    "print(f1_score(y_test, pred))\n",
    "cm = confusion_matrix(y_test, pred, labels=classes)\n",
    "plot_confusion_matrix(cm, classes=classes, title='Stacking')\n",
    "print(classification_report(y_test, pred))"
   ]
  },
  {
   "cell_type": "code",
   "execution_count": null,
   "metadata": {},
   "outputs": [
    {
     "data": {
      "text/plain": [
       "(LinearSVC(class_weight={0: 0.5, 1: 1}, tol=0.1), 0.6311038534686517)"
      ]
     },
     "execution_count": 339,
     "metadata": {},
     "output_type": "execute_result"
    }
   ],
   "source": [
    "svc_param_list = {\n",
    "     \"C\": [1]\n",
    "}\n",
    "\n",
    "gsc = GridSearchCV(SVC(), svc_param_list, scoring='f1', n_jobs=-1)\n",
    "gsc.fit(x_test, y_test)\n",
    "gsc.best_score_, gsc.best_estimator_"
   ]
  },
  {
   "cell_type": "code",
   "execution_count": null,
   "metadata": {},
   "outputs": [],
   "source": [
    "rf_param_list = {\n",
    "     'max_depth': [10, 50, 100, 200, 400],\n",
    "     'n_estimators': [10, 50, 100, 200, 400, 800],\n",
    "     'criterion': [\"gini\", \"entropy\"],\n",
    "     'class_weight': [\"balanced\", \"balanced_subsample\", {0:0.5, 1:3}]\n",
    "}\n",
    "\n",
    "gsc = GridSearchCV(RandomForestClassifier(), rf_param_list, scoring='accuracy', n_jobs=-1, verbose = 3)\n",
    "gsc.fit(x_test, y_test)\n",
    "gsc.best_score_, gsc.best_estimator_"
   ]
  },
  {
   "cell_type": "code",
   "execution_count": null,
   "metadata": {},
   "outputs": [],
   "source": [
    "import xgboost as xgb\n",
    "\n",
    "xgboost_param_list = {\n",
    "        'min_child_weight': [1, 5, 10],\n",
    "        'gamma': [0.5, 1, 1.5, 2, 5],\n",
    "        'subsample': [0.6, 0.8, 1.0],\n",
    "        'colsample_bytree': [0.6, 0.8, 1.0],\n",
    "        'max_depth': [3, 5],\n",
    "        'learning_rate': [0.001, 0.01, 0.1, 1, 2],\n",
    "        'n_estimators': [100, 500, 1000]\n",
    "        }\n",
    "\n",
    "gsc = GridSearchCV(xgb.XGBClassifier(), xgboost_param_list, scoring='accuracy', n_jobs=-1, verbose=3)\n",
    "gsc.fit(x_test, y_test)\n",
    "gsc.best_score_, gsc.best_estimator_"
   ]
  },
  {
   "cell_type": "code",
   "execution_count": null,
   "metadata": {},
   "outputs": [],
   "source": [
    "svc_param_list = {\n",
    "    \n",
    "}\n",
    "\n",
    "gsc = GridSearchCV()"
   ]
  },
  {
   "cell_type": "code",
   "execution_count": 80,
   "metadata": {},
   "outputs": [
    {
     "name": "stdout",
     "output_type": "stream",
     "text": [
      "Confusion matrix, without normalization\n",
      "              precision    recall  f1-score   support\n",
      "\n",
      "           0       0.78      0.77      0.78       532\n",
      "           1       0.56      0.57      0.56       268\n",
      "\n",
      "    accuracy                           0.70       800\n",
      "   macro avg       0.67      0.67      0.67       800\n",
      "weighted avg       0.71      0.70      0.71       800\n",
      "\n"
     ]
    },
    {
     "data": {
      "image/png": "[encoded data removed]",
      "text/plain": [
       "<Figure size 640x480 with 2 Axes>"
      ]
     },
     "metadata": {},
     "output_type": "display_data"
    }
   ],
   "source": [
    "from sklearn.neural_network import MLPClassifier\n",
    "\n",
    "# step 1: initial an classifier \n",
    "model_mlp = MLPClassifier(alpha=0.0001, max_iter=1500, solver = \"adam\")\n",
    "\n",
    "# step 2: train the classifier by feeding train data (notes features + labels)\n",
    "model_mlp.fit(x_train, y_train)\n",
    "\n",
    "# step 3: prediction by feeding validation data (notes features only)\n",
    "model_mlp = model_mlp.predict(x_test)\n",
    "\n",
    "# step 4: check the performance of model by comparing the prediction and preserved labels.\n",
    "cm = confusion_matrix(y_test, model_mlp, labels=classes)\n",
    "plot_confusion_matrix(cm, classes=classes, title='Neural Net')\n",
    "\n",
    "print(classification_report(y_test, model_mlp))"
   ]
  },
  {
   "attachments": {},
   "cell_type": "markdown",
   "metadata": {},
   "source": [
    "# Output"
   ]
  },
  {
   "cell_type": "code",
   "execution_count": 28,
   "metadata": {},
   "outputs": [],
   "source": [
    "!iconv -f utf-8 -t utf-8 -c ./WN23_data/WN23_PA_test_tweets.txt > ./WN23_data/test.txt"
   ]
  },
  {
   "cell_type": "code",
   "execution_count": 39,
   "metadata": {},
   "outputs": [],
   "source": [
    "sub_file = './WN23_data/test.txt'\n",
    "sub_df = pd.read_csv(sub_file, sep = \",\",encoding = \"ISO-8859-1\")\n",
    "sub_df['Tweet'] = sub_df['Tweet'].apply(lambda x: regex_preprocessing(x)).apply(lambda x: text_preprocessing(x)).apply(lambda x: \" \".join(x))\n",
    "sub_text = sub_df['Tweet']\n",
    "sub = vectorizr.transform(sub_text)\n",
    "pred = mod_stack1.predict(sub)\n",
    "final = pd.DataFrame({'TweetID': sub_df['TweetID'], 'Label': pred})\n",
    "final.to_csv('submission1.csv', header=True, index=None, sep=',', mode='a')\n",
    "!kaggle competitions submit -c lhs712-w23-activity-tweeting -f submission1.csv -m \"baseline\""
   ]
  }
 ],
 "metadata": {
  "kernelspec": {
   "display_name": "numpy_m1_build",
   "language": "python",
   "name": "python3"
  },
  "language_info": {
   "codemirror_mode": {
    "name": "ipython",
    "version": 3
   },
   "file_extension": ".py",
   "mimetype": "text/x-python",
   "name": "python",
   "nbconvert_exporter": "python",
   "pygments_lexer": "ipython3",
   "version": "3.10.4"
  },
  "orig_nbformat": 4,
  "vscode": {
   "interpreter": {
    "hash": "5cd2dc2bc102a04a2cb17d6d5180f0d184562ab71498ad6d78c8ae3de727ddc5"
   }
  }
 },
 "nbformat": 4,
 "nbformat_minor": 2
}
